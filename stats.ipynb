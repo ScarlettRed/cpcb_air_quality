{
 "cells": [
  {
   "cell_type": "markdown",
   "metadata": {},
   "source": [
    "## Useful Links\n",
    "- http://www.cpcb.gov.in/CAAQM/frmUserAvgReportCriteria.aspx\n",
    "- http://www.cpcb.gov.in/CAAQM/mapPage/frmindiamap.aspx\n",
    "\n",
    "### Make Use of Beautiful Soup to automate fetching data\n",
    "- Historic Annual PM2.5, PM10 Plot\n",
    "    - INDIA - National\n",
    "    - Delhi NCR\n",
    "    - Delhi Location wise\n",
    "    - Gurgaon"
   ]
  },
  {
   "cell_type": "markdown",
   "metadata": {},
   "source": [
    "###Mechanize Links:\n",
    "   - http://www.search.sourceforge.net/mechanize/\n",
    "   - Forms Example: http://www.search.sourceforge.net/mechanize/forms.html\n",
    "   - BSoup Input Parsing: http://stackoverflow.com/questions/23001678/python-beautiful-soup-form-input-parsing"
   ]
  },
  {
   "cell_type": "code",
   "execution_count": 50,
   "metadata": {},
   "outputs": [],
   "source": [
    "from bs4 import BeautifulSoup\n",
    "import mechanize\n",
    "import re\n",
    "import time\n",
    "import random"
   ]
  },
  {
   "cell_type": "code",
   "execution_count": 51,
   "metadata": {},
   "outputs": [],
   "source": [
    "url = 'http://www.cpcb.gov.in/CAAQM/frmUserAvgReportCriteria.aspx'"
   ]
  },
  {
   "cell_type": "code",
   "execution_count": 52,
   "metadata": {},
   "outputs": [],
   "source": [
    "random.seed()"
   ]
  },
  {
   "cell_type": "code",
   "execution_count": 53,
   "metadata": {},
   "outputs": [],
   "source": [
    "def getOptions(param, form):\n",
    "    return re.findall(\"{}=\\[(.+)\\]\".format(param), str(form))\n",
    "\n",
    "def getStations(ddlState, ddlCity):\n",
    "    br = mechanize.Browser()\n",
    "    br.set_handle_robots(False)\n",
    "    res = br.open(url)\n",
    "    forms = mechanize.ParseResponse(res, backwards_compat=False)\n",
    "    form = forms[0]\n",
    "    # State\n",
    "    form[\"ddlState\"] = [\"{}\".format(ddlState),]\n",
    "    form, html = updateForm(br, form)\n",
    "    # City\n",
    "    form[\"ddlCity\"] = [\"{}\".format(ddlCity),]\n",
    "    form, html = updateForm(br, form)\n",
    "    \n",
    "    options = getOptions(\"ddlStation\", form)\n",
    "    options = options[0].split(',')[1:]\n",
    "    options = map(lambda x: x.strip(), options)\n",
    "    stations = options\n",
    "    return stations"
   ]
  },
  {
   "cell_type": "code",
   "execution_count": 54,
   "metadata": {},
   "outputs": [],
   "source": [
    "#     Example Usage: \n",
    "#     soup = BeautifulSoup(html)\n",
    "#     getMap(soup, \"ddlState\")\n",
    "def getMap(soup, ty):\n",
    "    select_node = soup.findAll('select', attrs={'name': ty})\n",
    "    if not select_node:\n",
    "        select_node = soup.findAll('select', attrs={'id': ty})\n",
    "#     print select_node\n",
    "    option_map = {}\n",
    "    if select_node:\n",
    "        for option in select_node[0].findAll('option'):\n",
    "            option_map[option['value']] = option.text\n",
    "    return option_map"
   ]
  },
  {
   "cell_type": "code",
   "execution_count": 55,
   "metadata": {},
   "outputs": [],
   "source": [
    "maxSleepTime = 2.0\n",
    "def randSleepTime():\n",
    "    return (1.0 + random.random() * maxSleepTime)"
   ]
  },
  {
   "cell_type": "code",
   "execution_count": 56,
   "metadata": {},
   "outputs": [],
   "source": [
    "def getPM25Id(html):\n",
    "    return re.findall(\"<option value=(.+)>(.*)PM2\\.5(.*)</option>\", str(html))\n",
    "\n",
    "def getData(state, city):\n",
    "    # Delhi, Delhi\n",
    "#     state, city = \"6\", \"85\"\n",
    "    stations = getStations(state, city)\n",
    "    soups = []\n",
    "    #\n",
    "    random.shuffle(stations)\n",
    "    for station in stations:\n",
    "        try:\n",
    "            br = mechanize.Browser()\n",
    "            br.addheaders = [('user-agent', \n",
    "            '   Mozilla/5.0 (X11; U; Linux i686; en-US; rv:1.9.2.3) Gecko/20100423 Ubuntu/10.04 (lucid) Firefox/3.6.3'),\n",
    "            ('accept', 'text/html,application/xhtml+xml,application/xml;q=0.9,*/*;q=0.8')]\n",
    "\n",
    "            br.set_handle_robots(False)\n",
    "            res = br.open(url)\n",
    "\n",
    "            forms = mechanize.ParseResponse(res, backwards_compat=False)\n",
    "            form = forms[0]\n",
    "\n",
    "            form[\"ddlState\"] = [state,]\n",
    "            form, html = updateForm(br, form)\n",
    "\n",
    "            form[\"ddlCity\"] = [city,]\n",
    "            form, html = updateForm(br, form)\n",
    "\n",
    "            form[\"ddlStation\"] = [\"{}\".format(station),]\n",
    "            form, html = updateForm(br, form)\n",
    "\n",
    "    #         print html\n",
    "            parsed_pm25 = getPM25Id(html)\n",
    "            if parsed_pm25:\n",
    "                PM25Id = getPM25Id(html)[0][0][1:-1]\n",
    "                print(\"PM2.5 Id =\", PM25Id)\n",
    "            else:\n",
    "                print(\"No PM2.5 for {}, {}, {}\").format(state, city, station)\n",
    "                continue\n",
    "\n",
    "            form[\"lstBoxChannelLeft\"] = [\"{}\".format(PM25Id),]\n",
    "            form, html = updateForm(br, form)\n",
    "\n",
    "            form[\"ddlCriteria\"] = [\"0\",]\n",
    "            form, html = updateForm(br, form)\n",
    "\n",
    "            form[\"txtYear\"] = \"2000\"\n",
    "            form[\"txtYearTo\"] = \"2017\"\n",
    "            form, html = updateForm(br, form)\n",
    "\n",
    "            form[\"btnSubmit\"] = \"True\"\n",
    "            form, html = updateForm(br, form)\n",
    "\n",
    "            br.select_form(\"form1\")\n",
    "\n",
    "            time.sleep(randSleepTime())\n",
    "            res = br.submit(name='btnSubmit')\n",
    "            html = res.read()\n",
    "            soup = BeautifulSoup(html, 'html.parser')\n",
    "            soups.append([(state, city, station), soup])\n",
    "    #         if len(soups) >= 2:\n",
    "    #             break\n",
    "            time.sleep(randSleepTime())\n",
    "            br.close()\n",
    "            print (\"Finished Crawling for {}, {}, {}\").format(state, city, station)\n",
    "\n",
    "        except:\n",
    "            print(\"Exception raised for {}, {}, {}\").format(state, city, station)\n",
    "            time.sleep(5)\n",
    "            br.close()\n",
    "            continue\n",
    "            \n",
    "    return soups"
   ]
  },
  {
   "cell_type": "code",
   "execution_count": 45,
   "metadata": {},
   "outputs": [],
   "source": [
    "def updateForm(br, form):\n",
    "    time.sleep(randSleepTime())\n",
    "    res = br.open(form.click())\n",
    "    html = res.get_data()\n",
    "    forms = mechanize.ParseResponse(res, backwards_compat=False)\n",
    "    form = forms[0]\n",
    "    return form, html"
   ]
  },
  {
   "cell_type": "code",
   "execution_count": 46,
   "metadata": {},
   "outputs": [],
   "source": [
    "def getValsHtml(table):\n",
    "    data = []\n",
    "    rows = table.find_all('tr')\n",
    "    for row in rows:\n",
    "        cols = row.find_all('td')\n",
    "        cols = [ele.text.strip() for ele in cols]\n",
    "        data.append([ele for ele in cols if ele]) # Get rid of empty values\n",
    "    vals = re.findall(\"\\d+\\.\\d+\", data[0][0])[:-1]\n",
    "    data = []\n",
    "    for val in vals:\n",
    "        yr = val[:4]\n",
    "        data.append([yr, val[4:]])\n",
    "    return data\n",
    "\n",
    "def cleanupData(data):\n",
    "    clean_data = []\n",
    "    for elem in data:\n",
    "        if elem[0] in map(str, range(2000, 2018)):\n",
    "            clean_data.append(elem)\n",
    "    return clean_data"
   ]
  },
  {
   "cell_type": "code",
   "execution_count": 47,
   "metadata": {},
   "outputs": [
    {
     "name": "stdout",
     "output_type": "stream",
     "text": [
      "['stateId,state,cityId,city\\n', '24,Sikkim,Select City,Select City\\n', '25,Tamil Nadu,546,Chennai\\n', '25,Tamil Nadu,Select City,Select City\\n', '26,Tripura,Select City,Select City\\n', '27,Uttaranchal,Select City,Select City\\n', '20,Nagaland,Select City,Select City\\n', '21,Orissa,Select City,Select City\\n', '22,Punjab,194,Ludhiana\\n', '22,Punjab,188,Amritsar\\n', '22,Punjab,553,Mandi Gobindgarh\\n', '22,Punjab,Select City,Select City\\n', '23,Rajasthan,212,Jodhpur\\n', '23,Rajasthan,223,Jaipur\\n', '23,Rajasthan,Select City,Select City\\n', '28,Uttar Pradesh,278,Kanpur\\n', '28,Uttar Pradesh,253,Agra\\n', '28,Uttar Pradesh,270,Varanasi\\n', '28,Uttar Pradesh,256,Lucknow\\n', '28,Uttar Pradesh,Select City,Select City\\n', '29,West Bengal,300,Kolkata\\n', '29,West Bengal,548,Howrah\\n', '29,West Bengal,549,Haldia\\n', '29,West Bengal,Select City,Select City\\n', '29,West Bengal,552,Durgapur\\n', '1,Andhra Pradesh,9,Visakhapatnam\\n', '1,Andhra Pradesh,21,Tirupati\\n', '1,Andhra Pradesh,Select City,Select City\\n', '3,Assam,Select City,Select City\\n', '2,Arunachal Pradesh,Select City,Select City\\n', '5,Chhattisgarh,Select City,Select City\\n', '4,Bihar,54,Muzaffarpur\\n', '4,Bihar,75,Gaya\\n', '4,Bihar,Select City,Select City\\n', '4,Bihar,70,Patna\\n', '7,Goa,Select City,Select City\\n', '6,Delhi,Select City,Select City\\n', '6,Delhi,85,Delhi\\n', '9,Haryana,364,Gurgaon\\n', '9,Haryana,365,Faridabad\\n', '9,Haryana,348,Panchkula\\n', '9,Haryana,360,Rohtak\\n', '9,Haryana,Select City,Select City\\n', '8,Gujarat,337,Ahmedabad\\n', '8,Gujarat,Select City,Select City\\n', '12,Jharkhand,Select City,Select City\\n', '11,Jammu and Kashmir,Select City,Select City\\n', '10,Himachal Pradesh,Select City,Select City\\n', '13,Karnataka,136,Bengaluru\\n', '13,Karnataka,Select City,Select City\\n', 'Select State,Select State,Select City,Select City\\n', '15,Madya Pradesh,Select City,Select City\\n', '14,Kerala,Select City,Select City\\n', '17,Manipur,Select City,Select City\\n', '16,Maharashtra,308,Aurangabad\\n', '16,Maharashtra,309,Thane\\n', '16,Maharashtra,Select City,Select City\\n', '16,Maharashtra,312,Pune\\n', '16,Maharashtra,310,Mumbai\\n', '16,Maharashtra,314,Solapur\\n', '16,Maharashtra,307,Nashik\\n', '16,Maharashtra,327,Nagpur\\n', '16,Maharashtra,329,Chandrapur\\n', '19,Mizoram,Select City,Select City\\n', '18,Meghalaya,Select City,Select City\\n', '30,Telangana,7,Hyderabad\\n', '30,Telangana,Select City,Select City\\n']\n"
     ]
    }
   ],
   "source": [
    "import itertools\n",
    "f = open('C:/Users/Scarlett RED/Desktop/cpcb_air_quality-master/id-mappings/city-ids.txt', 'r')\n",
    "cities = f.readlines()#returns a list contains the lines of the file\n",
    "print(cities)\n",
    "#cities = list(map(lambda elem: elem.split(\",\"))\n",
    "         # print(cities[1:])\n",
    "#cities = list(map(lambda elem: [elem[0], elem[1], elem[2], elem[3][:-1]])\n",
    " #             print(cities)\n",
    "#cities = filter(lambda elem: elem[2].isdigit()) \n",
    "    "
   ]
  },
  {
   "cell_type": "code",
   "execution_count": 48,
   "metadata": {},
   "outputs": [],
   "source": [
    "cities=map(lambda elem:elem.split(\",\"), cities[1:])\n",
    "cities=map(lambda elem:[elem[0], elem[1], elem[2], elem[3][:-1]], cities)\n",
    "cities=filter(lambda elem: elem[2].isdigit(), cities)"
   ]
  },
  {
   "cell_type": "code",
   "execution_count": 49,
   "metadata": {},
   "outputs": [
    {
     "name": "stdout",
     "output_type": "stream",
     "text": [
      "Error occurred at {}, {}, {}, {}\n"
     ]
    },
    {
     "ename": "AttributeError",
     "evalue": "'NoneType' object has no attribute 'format'",
     "output_type": "error",
     "traceback": [
      "\u001b[1;31m---------------------------------------------------------------------------\u001b[0m",
      "\u001b[1;31mAttributeError\u001b[0m                            Traceback (most recent call last)",
      "\u001b[1;32m<ipython-input-49-4686e6bd3486>\u001b[0m in \u001b[0;36m<module>\u001b[1;34m\u001b[0m\n\u001b[0;32m      4\u001b[0m     \u001b[1;32mtry\u001b[0m\u001b[1;33m:\u001b[0m\u001b[1;33m\u001b[0m\u001b[1;33m\u001b[0m\u001b[0m\n\u001b[1;32m----> 5\u001b[1;33m         \u001b[0msoups\u001b[0m \u001b[1;33m=\u001b[0m \u001b[0mgetData\u001b[0m\u001b[1;33m(\u001b[0m\u001b[0mstateId\u001b[0m\u001b[1;33m,\u001b[0m \u001b[0mcityId\u001b[0m\u001b[1;33m)\u001b[0m\u001b[1;33m\u001b[0m\u001b[1;33m\u001b[0m\u001b[0m\n\u001b[0m\u001b[0;32m      6\u001b[0m         \u001b[1;32mfor\u001b[0m \u001b[0ms\u001b[0m \u001b[1;32min\u001b[0m \u001b[0msoups\u001b[0m\u001b[1;33m:\u001b[0m\u001b[1;33m\u001b[0m\u001b[1;33m\u001b[0m\u001b[0m\n",
      "\u001b[1;32m<ipython-input-44-c395ac55fc14>\u001b[0m in \u001b[0;36mgetData\u001b[1;34m(state, city)\u001b[0m\n\u001b[0;32m      6\u001b[0m \u001b[1;31m#     state, city = \"6\", \"85\"\u001b[0m\u001b[1;33m\u001b[0m\u001b[1;33m\u001b[0m\u001b[1;33m\u001b[0m\u001b[0m\n\u001b[1;32m----> 7\u001b[1;33m     \u001b[0mstations\u001b[0m \u001b[1;33m=\u001b[0m \u001b[0mgetStations\u001b[0m\u001b[1;33m(\u001b[0m\u001b[0mstate\u001b[0m\u001b[1;33m,\u001b[0m \u001b[0mcity\u001b[0m\u001b[1;33m)\u001b[0m\u001b[1;33m\u001b[0m\u001b[1;33m\u001b[0m\u001b[0m\n\u001b[0m\u001b[0;32m      8\u001b[0m     \u001b[0msoups\u001b[0m \u001b[1;33m=\u001b[0m \u001b[1;33m[\u001b[0m\u001b[1;33m]\u001b[0m\u001b[1;33m\u001b[0m\u001b[1;33m\u001b[0m\u001b[0m\n",
      "\u001b[1;32m<ipython-input-41-ca5c3a98bb35>\u001b[0m in \u001b[0;36mgetStations\u001b[1;34m(ddlState, ddlCity)\u001b[0m\n\u001b[0;32m      7\u001b[0m     \u001b[0mres\u001b[0m \u001b[1;33m=\u001b[0m \u001b[0mbr\u001b[0m\u001b[1;33m.\u001b[0m\u001b[0mopen\u001b[0m\u001b[1;33m(\u001b[0m\u001b[0murl\u001b[0m\u001b[1;33m)\u001b[0m\u001b[1;33m\u001b[0m\u001b[1;33m\u001b[0m\u001b[0m\n\u001b[1;32m----> 8\u001b[1;33m     \u001b[0mforms\u001b[0m \u001b[1;33m=\u001b[0m \u001b[0mmechanize\u001b[0m\u001b[1;33m.\u001b[0m\u001b[0mParseResponse\u001b[0m\u001b[1;33m(\u001b[0m\u001b[0mres\u001b[0m\u001b[1;33m,\u001b[0m \u001b[0mbackwards_compat\u001b[0m\u001b[1;33m=\u001b[0m\u001b[1;32mFalse\u001b[0m\u001b[1;33m)\u001b[0m\u001b[1;33m\u001b[0m\u001b[1;33m\u001b[0m\u001b[0m\n\u001b[0m\u001b[0;32m      9\u001b[0m     \u001b[0mform\u001b[0m \u001b[1;33m=\u001b[0m \u001b[0mforms\u001b[0m\u001b[1;33m[\u001b[0m\u001b[1;36m0\u001b[0m\u001b[1;33m]\u001b[0m\u001b[1;33m\u001b[0m\u001b[1;33m\u001b[0m\u001b[0m\n",
      "\u001b[1;31mAttributeError\u001b[0m: module 'mechanize' has no attribute 'ParseResponse'",
      "\nDuring handling of the above exception, another exception occurred:\n",
      "\u001b[1;31mAttributeError\u001b[0m                            Traceback (most recent call last)",
      "\u001b[1;32m<ipython-input-49-4686e6bd3486>\u001b[0m in \u001b[0;36m<module>\u001b[1;34m\u001b[0m\n\u001b[0;32m     22\u001b[0m         \u001b[0mtime\u001b[0m\u001b[1;33m.\u001b[0m\u001b[0msleep\u001b[0m\u001b[1;33m(\u001b[0m\u001b[1;36m7\u001b[0m\u001b[1;33m)\u001b[0m \u001b[1;31m# Sleep for 7 seconds before continuing for next city\u001b[0m\u001b[1;33m\u001b[0m\u001b[1;33m\u001b[0m\u001b[0m\n\u001b[0;32m     23\u001b[0m     \u001b[1;32mexcept\u001b[0m\u001b[1;33m:\u001b[0m\u001b[1;33m\u001b[0m\u001b[1;33m\u001b[0m\u001b[0m\n\u001b[1;32m---> 24\u001b[1;33m         \u001b[0mprint\u001b[0m\u001b[1;33m(\u001b[0m\u001b[1;34m\"Error occurred at {}, {}, {}, {}\"\u001b[0m\u001b[1;33m)\u001b[0m\u001b[1;33m.\u001b[0m\u001b[0mformat\u001b[0m\u001b[1;33m(\u001b[0m\u001b[0mstateId\u001b[0m\u001b[1;33m,\u001b[0m \u001b[0mstateName\u001b[0m\u001b[1;33m,\u001b[0m \u001b[0mcityId\u001b[0m\u001b[1;33m,\u001b[0m \u001b[0mcityName\u001b[0m\u001b[1;33m)\u001b[0m\u001b[1;33m\u001b[0m\u001b[1;33m\u001b[0m\u001b[0m\n\u001b[0m\u001b[0;32m     25\u001b[0m         \u001b[1;32mbreak\u001b[0m\u001b[1;33m\u001b[0m\u001b[1;33m\u001b[0m\u001b[0m\n",
      "\u001b[1;31mAttributeError\u001b[0m: 'NoneType' object has no attribute 'format'"
     ]
    }
   ],
   "source": [
    "for elem in cities:\n",
    "    stateId, stateName, cityId, cityName = elem\n",
    "    f = open('data/{}_{}.txt'.format(stateName, cityName), 'w')\n",
    "    try:\n",
    "        soups = getData(stateId, cityId)\n",
    "        for s in soups:\n",
    "            state, city, station = s[0]\n",
    "            f.write(\"state:{},city:{},station:{}\\n\".format(state, city, station))\n",
    "            html_data = s[1].find(id=\"gvReportStation\")\n",
    "            if html_data:\n",
    "                data = getValsHtml(html_data)\n",
    "                data = cleanupData(data)\n",
    "                for elem in data:\n",
    "                    f.write(','.join(str(x) for x in elem) + \"\\n\")\n",
    "            else:\n",
    "                f.write(\"None\\n\")\n",
    "\n",
    "            f.write(\"\\n\")\n",
    "        f.close()\n",
    "        print(\"---\")\n",
    "        print(\"Finished Crawling city {}, {}\").format(stateName, cityName)\n",
    "        time.sleep(7) # Sleep for 7 seconds before continuing for next city\n",
    "    except:\n",
    "        print(\"Error occurred at {}, {}, {}, {}\").format(stateId, stateName, cityId, cityName)\n",
    "        break"
   ]
  },
  {
   "cell_type": "code",
   "execution_count": 32,
   "metadata": {},
   "outputs": [],
   "source": [
    "states = getStatesMap()"
   ]
  },
  {
   "cell_type": "code",
   "execution_count": 105,
   "metadata": {},
   "outputs": [
    {
     "name": "stdout",
     "output_type": "stream",
     "text": [
      "PM2.5 Id = 1341\n",
      "PM2.5 Id = 508\n",
      "PM2.5 Id = 1378\n",
      "PM2.5 Id = 1290\n",
      "PM2.5 Id = 1377\n",
      "PM2.5 Id = 7\n",
      "PM2.5 Id = 513\n",
      "PM2.5 Id = 1376\n",
      "PM2.5 Id = 507\n",
      "PM2.5 Id = 514\n",
      "No PM2.5 for 6, 85, 58\n",
      "PM2.5 Id = 1316\n",
      "Exception raised for 6, 85, 53\n",
      "No PM2.5 for 6, 85, 51\n",
      "PM2.5 Id = 509\n",
      "PM2.5 Id = 506\n",
      "No PM2.5 for 6, 85, 55\n"
     ]
    }
   ],
   "source": [
    "soups = getData()"
   ]
  },
  {
   "cell_type": "code",
   "execution_count": 107,
   "metadata": {},
   "outputs": [],
   "source": [
    "f = open('delhi-pm25-data.txt', 'w')\n",
    "for s in soups:\n",
    "    state, city, station = s[0]\n",
    "    f.write(\"state:{},city:{},station:{}\\n\".format(state, city, station))\n",
    "    html_data = s[1].find(id=\"gvReportStation\")\n",
    "    if html_data:\n",
    "        data = getValsHtml(html_data)\n",
    "        data = cleanupData(data)\n",
    "        for elem in data:\n",
    "            f.write(','.join(str(x) for x in elem) + \"\\n\")\n",
    "    else:\n",
    "        f.write(\"None\\n\")\n",
    "    \n",
    "    f.write(\"\\n\")\n",
    "f.close()"
   ]
  },
  {
   "cell_type": "code",
   "execution_count": 79,
   "metadata": {},
   "outputs": [
    {
     "name": "stdout",
     "output_type": "stream",
     "text": [
      "No Data available for this station\n",
      "[[u'2016', u'216.32'], [u'2017', u'123.35']]\n"
     ]
    }
   ],
   "source": [
    "for soup in soups:\n",
    "    table = soup[1].find(id=\"gvReportStation\")\n",
    "    if table:\n",
    "        data = getValsHtml(table)\n",
    "        data = cleanupData(data)\n",
    "        print data\n",
    "    else:\n",
    "        print \"No Data available for this station\""
   ]
  },
  {
   "cell_type": "code",
   "execution_count": 10,
   "metadata": {},
   "outputs": [
    {
     "name": "stdout",
     "output_type": "stream",
     "text": [
      "['1', '2', '3', '4', '5', '6', '7', '45', '46', '47', '51', '52', '53', '54', '55', '58']\n"
     ]
    }
   ],
   "source": [
    "print getStations(\"6\", \"85\")"
   ]
  }
 ],
 "metadata": {
  "kernelspec": {
   "display_name": "Python 3",
   "language": "python",
   "name": "python3"
  },
  "language_info": {
   "codemirror_mode": {
    "name": "ipython",
    "version": 3
   },
   "file_extension": ".py",
   "mimetype": "text/x-python",
   "name": "python",
   "nbconvert_exporter": "python",
   "pygments_lexer": "ipython3",
   "version": "3.7.3"
  }
 },
 "nbformat": 4,
 "nbformat_minor": 1
}
