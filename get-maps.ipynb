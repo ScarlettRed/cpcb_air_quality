{
 "cells": [
  {
   "cell_type": "code",
   "execution_count": 1,
   "metadata": {
    "collapsed": true
   },
   "outputs": [],
   "source": [
    "from bs4 import BeautifulSoup\n",
    "import mechanize\n",
    "import re\n",
    "import time\n",
    "import random"
   ]
  },
  {
   "cell_type": "code",
   "execution_count": 2,
   "metadata": {
    "collapsed": true
   },
   "outputs": [],
   "source": [
    "url = 'http://www.cpcb.gov.in/CAAQM/frmUserAvgReportCriteria.aspx'"
   ]
  },
  {
   "cell_type": "code",
   "execution_count": 3,
   "metadata": {
    "collapsed": true
   },
   "outputs": [],
   "source": [
    "random.seed()"
   ]
  },
  {
   "cell_type": "code",
   "execution_count": 4,
   "metadata": {
    "collapsed": true
   },
   "outputs": [],
   "source": [
    "def getOptions(param, form):\n",
    "    return re.findall(\"{}=\\[(.+)\\]\".format(param), str(form))"
   ]
  },
  {
   "cell_type": "code",
   "execution_count": 5,
   "metadata": {
    "collapsed": true
   },
   "outputs": [],
   "source": [
    "maxSleepTime = 2.0\n",
    "def randSleepTime():\n",
    "    return (1.0 + random.random() * maxSleepTime)"
   ]
  },
  {
   "cell_type": "code",
   "execution_count": 9,
   "metadata": {
    "collapsed": true
   },
   "outputs": [],
   "source": [
    "#     Example Usage: \n",
    "#     soup = BeautifulSoup(html)\n",
    "#     getMap(soup, \"ddlState\")\n",
    "def getMap(soup, ty):\n",
    "    select_node = soup.findAll('select', attrs={'name': ty})\n",
    "    if not select_node:\n",
    "        select_node = soup.findAll('select', attrs={'id': ty})\n",
    "#     print select_node\n",
    "    option_map = {}\n",
    "    if select_node:\n",
    "        for option in select_node[0].findAll('option'):\n",
    "            option_map[option['value']] = option.text\n",
    "    return option_map"
   ]
  },
  {
   "cell_type": "code",
   "execution_count": 10,
   "metadata": {
    "collapsed": true
   },
   "outputs": [],
   "source": [
    "def getStatesMap():\n",
    "    br = mechanize.Browser()\n",
    "    br.addheaders = [('user-agent', \n",
    "    '   Mozilla/5.0 (X11; U; Linux i686; en-US; rv:1.9.2.3) Gecko/20100423 Ubuntu/10.04 (lucid) Firefox/3.6.3'),\n",
    "    ('accept', 'text/html,application/xhtml+xml,application/xml;q=0.9,*/*;q=0.8')]\n",
    "\n",
    "    br.set_handle_robots(False)\n",
    "    res = br.open(url)\n",
    "    \n",
    "    html = res.read()\n",
    "    soup = BeautifulSoup(html, 'html.parser')\n",
    "    states = getMap(soup, \"ddlState\")\n",
    "    f = open('state-ids.txt', 'w')\n",
    "    f.write(\"stateId,state\\n\")\n",
    "    for stateId, state in states.iteritems():\n",
    "        f.write(\"{},{}\\n\".format(stateId, state))\n",
    "    f.close()\n",
    "    return states\n",
    "\n",
    "def getCitiesMap(stateId, stateName):\n",
    "    br = mechanize.Browser()\n",
    "    br.addheaders = [('user-agent', \n",
    "    '   Mozilla/5.0 (X11; U; Linux i686; en-US; rv:1.9.2.3) Gecko/20100423 Ubuntu/10.04 (lucid) Firefox/3.6.3'),\n",
    "    ('accept', 'text/html,application/xhtml+xml,application/xml;q=0.9,*/*;q=0.8')]\n",
    "\n",
    "    br.set_handle_robots(False)\n",
    "    res = br.open(url)\n",
    "    forms = mechanize.ParseResponse(res, backwards_compat=False)\n",
    "    form = forms[0]\n",
    "\n",
    "    form[\"ddlState\"] = [stateId,]\n",
    "    form, html = f(br, form)\n",
    "\n",
    "    soup = BeautifulSoup(html, 'html.parser')\n",
    "    cities = getMap(soup, \"ddlCity\")\n",
    "    f = open('city-ids.txt', 'a')\n",
    "    for cityId, city in cities.iteritems():\n",
    "        f.write(\"{},{},{},{}\\n\".format(stateId, stateName, cityId, city))\n",
    "    f.close()\n",
    "    br.close()\n",
    "    return cities\n",
    "\n",
    "def getStationsMap(stateId, stateName, cityId, cityName):\n",
    "    br = mechanize.Browser()\n",
    "    br.addheaders = [('user-agent', \n",
    "    '   Mozilla/5.0 (X11; U; Linux i686; en-US; rv:1.9.2.3) Gecko/20100423 Ubuntu/10.04 (lucid) Firefox/3.6.3'),\n",
    "    ('accept', 'text/html,application/xhtml+xml,application/xml;q=0.9,*/*;q=0.8')]\n",
    "\n",
    "    br.set_handle_robots(False)\n",
    "    res = br.open(url)\n",
    "    forms = mechanize.ParseResponse(res, backwards_compat=False)\n",
    "    form = forms[0]\n",
    "\n",
    "    form[\"ddlState\"] = [stateId,]\n",
    "    form, html = updateForm(br, form)\n",
    "\n",
    "    form[\"ddlCity\"] = [cityId,]\n",
    "    form, html = updateForm(br, form)\n",
    "    \n",
    "    soup = BeautifulSoup(html, 'html.parser')\n",
    "    stations = getMap(soup, \"ddlStation\")\n",
    "    \n",
    "    f = open('station-ids.txt', 'a')\n",
    "    for stationId, stationName in stations.iteritems():\n",
    "        f.write(\"{},{},{},{},{},{}\\n\".format(stateId, stateName, cityId, cityName, stationId, stationName))\n",
    "    f.close()\n",
    "    br.close()\n",
    "    return stations\n",
    "\n",
    "def updateForm(br, form):\n",
    "    time.sleep(randSleepTime())\n",
    "    res = br.open(form.click())\n",
    "    html = res.get_data()\n",
    "    forms = mechanize.ParseResponse(res, backwards_compat=False)\n",
    "    form = forms[0]\n",
    "    return form, html"
   ]
  },
  {
   "cell_type": "code",
   "execution_count": 7,
   "metadata": {
    "collapsed": true
   },
   "outputs": [],
   "source": [
    "f = open('city-ids.txt', 'r')\n",
    "cities = f.readlines()\n",
    "cities = map(lambda elem: elem.split(\",\"), cities)[1:]\n",
    "cities = map(lambda elem: [elem[0], elem[1], elem[2], elem[3][:-1]], cities)\n",
    "cities = filter(lambda elem: elem[2].isdigit(), cities)"
   ]
  },
  {
   "cell_type": "code",
   "execution_count": 11,
   "metadata": {
    "collapsed": true
   },
   "outputs": [],
   "source": [
    "f = open('station-ids.txt', 'w')\n",
    "f.write(\"stateId,state,cityId,city,stationId,station\\n\")\n",
    "f.close()\n",
    "for elem in cities:\n",
    "    stateId, stateName, cityId, cityName = elem\n",
    "    getStationsMap(stateId, stateName, cityId, cityName)"
   ]
  },
  {
   "cell_type": "code",
   "execution_count": null,
   "metadata": {
    "collapsed": true
   },
   "outputs": [],
   "source": []
  }
 ],
 "metadata": {
  "kernelspec": {
   "display_name": "Python 2",
   "language": "python",
   "name": "python2"
  },
  "language_info": {
   "codemirror_mode": {
    "name": "ipython",
    "version": 2
   },
   "file_extension": ".py",
   "mimetype": "text/x-python",
   "name": "python",
   "nbconvert_exporter": "python",
   "pygments_lexer": "ipython2",
   "version": "2.7.9"
  }
 },
 "nbformat": 4,
 "nbformat_minor": 0
}
